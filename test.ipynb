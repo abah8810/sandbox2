{
  "nbformat": 4,
  "nbformat_minor": 0,
  "metadata": {
    "colab": {
      "name": "test.ipynb",
      "provenance": [],
      "collapsed_sections": [],
      "authorship_tag": "ABX9TyOd0iQyfKo0EVW5DeyaupmF"
    },
    "kernelspec": {
      "name": "python3",
      "display_name": "Python 3"
    },
    "language_info": {
      "name": "python"
    }
  },
  "cells": [
    {
      "cell_type": "code",
      "metadata": {
        "colab": {
          "base_uri": "https://localhost:8080/"
        },
        "id": "Vm5TWdktFyKN",
        "outputId": "2c83641d-0e8b-4484-bcb9-a644c7c1194f"
      },
      "source": [
        "# google driveマウント\n",
        "from google.colab import drive\n",
        "drive.mount('/content/drive')"
      ],
      "execution_count": null,
      "outputs": [
        {
          "output_type": "stream",
          "name": "stdout",
          "text": [
            "Mounted at /content/drive\n"
          ]
        }
      ]
    },
    {
      "cell_type": "code",
      "metadata": {
        "colab": {
          "base_uri": "https://localhost:8080/"
        },
        "id": "C1ole3lRF5hG",
        "outputId": "3fec4661-3a61-41e9-82d5-afdf50f0bcd8"
      },
      "source": [
        "print(\"hello\")"
      ],
      "execution_count": null,
      "outputs": [
        {
          "output_type": "stream",
          "name": "stdout",
          "text": [
            "hello\n"
          ]
        }
      ]
    },
    {
      "cell_type": "code",
      "metadata": {
        "id": "FvIprr3LIk3-"
      },
      "source": [
        "def calc_fibonacci(n):\n",
        "  if n == 0:\n",
        "    return 0\n",
        "  elif n == 1:\n",
        "    return 1\n",
        "  return calc_fibonacci(n-1) + calc_fibonacci(n-2)"
      ],
      "execution_count": null,
      "outputs": []
    },
    {
      "cell_type": "code",
      "metadata": {
        "colab": {
          "base_uri": "https://localhost:8080/"
        },
        "id": "XL1MFSNnKACG",
        "outputId": "fc5aa73c-f0e2-4fad-9ed5-aeeec484b88f"
      },
      "source": [
        "for i in range(11):\n",
        "  print(i, calc_fibonacci(i))"
      ],
      "execution_count": null,
      "outputs": [
        {
          "output_type": "stream",
          "name": "stdout",
          "text": [
            "0 0\n",
            "1 1\n",
            "2 1\n",
            "3 2\n",
            "4 3\n",
            "5 5\n",
            "6 8\n",
            "7 13\n",
            "8 21\n",
            "9 34\n",
            "10 55\n"
          ]
        }
      ]
    },
    {
      "cell_type": "code",
      "metadata": {
        "colab": {
          "base_uri": "https://localhost:8080/"
        },
        "id": "p5BBO_MUKiea",
        "outputId": "3c1b0a34-cd67-4e2a-9f80-f2b43e609e70"
      },
      "source": [
        "# # Githubからリポジトリをcloneする\n",
        "# !git clone https://github.com/pytorch/examples.git\n",
        "# import os\n",
        "# path = '/content/examples/mnist'\n",
        "\n",
        "# # 作業ディレクトリをpathに移動する\n",
        "# os.chdir(path)\n",
        "\n",
        "# # 作業ディレクトリ直下のファイルを確認\n",
        "# !ls\n",
        "\n",
        "# !python3 main.py"
      ],
      "execution_count": null,
      "outputs": [
        {
          "output_type": "stream",
          "name": "stdout",
          "text": [
            "Cloning into 'examples'...\n",
            "remote: Enumerating objects: 2881, done.\u001b[K\n",
            "remote: Counting objects: 100% (18/18), done.\u001b[K\n",
            "remote: Compressing objects: 100% (17/17), done.\u001b[K\n",
            "remote: Total 2881 (delta 5), reused 7 (delta 1), pack-reused 2863\u001b[K\n",
            "Receiving objects: 100% (2881/2881), 39.19 MiB | 18.44 MiB/s, done.\n",
            "Resolving deltas: 100% (1442/1442), done.\n"
          ]
        }
      ]
    },
    {
      "cell_type": "code",
      "metadata": {
        "colab": {
          "base_uri": "https://localhost:8080/"
        },
        "id": "fdN09RKdMEwi",
        "outputId": "0149f10e-10b3-4a01-c68c-4c07cce37cf9"
      },
      "source": [
        ""
      ],
      "execution_count": null,
      "outputs": [
        {
          "output_type": "stream",
          "name": "stdout",
          "text": [
            "main.py  README.md  requirements.txt\n"
          ]
        }
      ]
    },
    {
      "cell_type": "code",
      "metadata": {
        "id": "CVBt-HuGMJ4y"
      },
      "source": [
        ""
      ],
      "execution_count": null,
      "outputs": []
    },
    {
      "cell_type": "code",
      "metadata": {
        "colab": {
          "base_uri": "https://localhost:8080/"
        },
        "id": "wRWGfS5KgW-A",
        "outputId": "8fea9062-6858-4aeb-fe4b-3a394965495f"
      },
      "source": [
        "# Githubからリポジトリをcloneする\n",
        "!git clone https://github.com/abah8810/sandbox2.git"
      ],
      "execution_count": 1,
      "outputs": [
        {
          "output_type": "stream",
          "name": "stdout",
          "text": [
            "Cloning into 'sandbox2'...\n",
            "remote: Enumerating objects: 30, done.\u001b[K\n",
            "remote: Counting objects: 100% (30/30), done.\u001b[K\n",
            "remote: Compressing objects: 100% (28/28), done.\u001b[K\n",
            "remote: Total 30 (delta 9), reused 0 (delta 0), pack-reused 0\u001b[K\n",
            "Unpacking objects: 100% (30/30), done.\n"
          ]
        }
      ]
    },
    {
      "cell_type": "code",
      "metadata": {
        "colab": {
          "base_uri": "https://localhost:8080/"
        },
        "id": "fkXfLTJqwrkx",
        "outputId": "a83f8601-a0d8-4346-8378-449f42ba8cd1"
      },
      "source": [
        "!git checkout 83d9e27"
      ],
      "execution_count": 11,
      "outputs": [
        {
          "output_type": "stream",
          "name": "stdout",
          "text": [
            "HEAD is now at 83d9e27 入力した数値まで表示させる\n"
          ]
        }
      ]
    },
    {
      "cell_type": "code",
      "metadata": {
        "colab": {
          "base_uri": "https://localhost:8080/"
        },
        "id": "Aj3_TjtZ0oi4",
        "outputId": "371a6f7a-9c2a-44de-afe5-9a144755ce48"
      },
      "source": [
        "!git log -n 1"
      ],
      "execution_count": 15,
      "outputs": [
        {
          "output_type": "stream",
          "name": "stdout",
          "text": [
            "\u001b[33mcommit 83d9e27f2cd960361a74b19d375a562011877455\u001b[m\u001b[33m (\u001b[m\u001b[1;36mHEAD\u001b[m\u001b[33m)\u001b[m\n",
            "Author: abah8810 <67511042+abah8810@users.noreply.github.com>\n",
            "Date:   Fri Nov 26 18:34:34 2021 +0900\n",
            "\n",
            "    入力した数値まで表示させる\n"
          ]
        }
      ]
    },
    {
      "cell_type": "code",
      "metadata": {
        "colab": {
          "base_uri": "https://localhost:8080/"
        },
        "id": "BVP5E5R3gfjY",
        "outputId": "6a35dbf5-2ff9-412f-dc11-925bc9db72ab"
      },
      "source": [
        "import os\n",
        "from datetime import datetime, timedelta, timezone\n",
        "path = '/content/sandbox2'\n",
        "\n",
        "# 作業ディレクトリをpathに移動する\n",
        "os.chdir(path)\n",
        "\n",
        "# 作業ディレクトリ直下のファイルを確認\n",
        "!ls"
      ],
      "execution_count": 2,
      "outputs": [
        {
          "output_type": "stream",
          "name": "stdout",
          "text": [
            "calc_fibonacci.ipynb  calc_fibonacci.py  README.md  test.ipynb\n"
          ]
        }
      ]
    },
    {
      "cell_type": "code",
      "metadata": {
        "colab": {
          "base_uri": "https://localhost:8080/"
        },
        "id": "dpqlvSnDg87w",
        "outputId": "fb8d5e68-942f-4d9d-dd89-792a1539b5a0"
      },
      "source": [
        "!python3 calc_fibonacci.py\n",
        "\n",
        "JST = timezone(timedelta(hours=+9), 'JST')\n",
        "now = datetime.now(JST)\n",
        "now = now.strftime('%Y%m%d-%H%M%S')"
      ],
      "execution_count": 12,
      "outputs": [
        {
          "output_type": "stream",
          "name": "stdout",
          "text": [
            "数値を入力してください 50\n",
            "0 0\n",
            "1 1\n",
            "2 1\n",
            "3 2\n",
            "4 3\n",
            "5 5\n",
            "6 8\n",
            "7 13\n",
            "8 21\n",
            "9 34\n",
            "10 55\n",
            "11 89\n",
            "12 144\n",
            "13 233\n",
            "14 377\n",
            "15 610\n",
            "16 987\n",
            "17 1597\n",
            "18 2584\n",
            "19 4181\n",
            "20 6765\n",
            "21 10946\n",
            "22 17711\n",
            "23 28657\n",
            "24 46368\n",
            "25 75025\n",
            "26 121393\n",
            "27 196418\n",
            "28 317811\n",
            "29 514229\n",
            "30 832040\n",
            "31 1346269\n",
            "32 2178309\n",
            "33 3524578\n",
            "34 5702887\n",
            "35 9227465\n",
            "0\n",
            "36 14930352\n",
            "Traceback (most recent call last):\n",
            "  File \"calc_fibonacci.py\", line 11, in <module>\n",
            "    print(i, calc_fibonacci(i))\n",
            "  File \"calc_fibonacci.py\", line 6, in calc_fibonacci\n",
            "    return calc_fibonacci(n-1) + calc_fibonacci(n-2)\n",
            "  File \"calc_fibonacci.py\", line 6, in calc_fibonacci\n",
            "    return calc_fibonacci(n-1) + calc_fibonacci(n-2)\n",
            "  File \"calc_fibonacci.py\", line 6, in calc_fibonacci\n",
            "    return calc_fibonacci(n-1) + calc_fibonacci(n-2)\n",
            "  [Previous line repeated 21 more times]\n",
            "KeyboardInterrupt\n"
          ]
        }
      ]
    },
    {
      "cell_type": "code",
      "metadata": {
        "id": "3Y6wUMJATGiv",
        "colab": {
          "base_uri": "https://localhost:8080/"
        },
        "outputId": "7be43c64-e10c-440d-f863-3dea600a8877"
      },
      "source": [
        "git_short_hash = !git rev-parse --short HEAD\n",
        "print(f\"test_{git_short_hash[0]}_{now}\")"
      ],
      "execution_count": 13,
      "outputs": [
        {
          "output_type": "stream",
          "name": "stdout",
          "text": [
            "test_83d9e27_20211126-193255\n"
          ]
        }
      ]
    },
    {
      "cell_type": "code",
      "metadata": {
        "colab": {
          "base_uri": "https://localhost:8080/"
        },
        "id": "VpOBth0-iiUQ",
        "outputId": "73754134-51ce-4339-a2f3-29896efe84f2"
      },
      "source": [
        ""
      ],
      "execution_count": 14,
      "outputs": [
        {
          "output_type": "stream",
          "name": "stdout",
          "text": [
            "\u001b[33mcommit 83d9e27f2cd960361a74b19d375a562011877455\u001b[m\u001b[33m (\u001b[m\u001b[1;36mHEAD\u001b[m\u001b[33m)\u001b[m\n",
            "Author: abah8810 <67511042+abah8810@users.noreply.github.com>\n",
            "Date:   Fri Nov 26 18:34:34 2021 +0900\n",
            "\n",
            "    入力した数値まで表示させる\n"
          ]
        }
      ]
    },
    {
      "cell_type": "code",
      "metadata": {
        "id": "-oEUddyOrOFb"
      },
      "source": [
        ""
      ],
      "execution_count": 6,
      "outputs": []
    },
    {
      "cell_type": "code",
      "metadata": {
        "id": "dCYtgoz5tBHl"
      },
      "source": [
        ""
      ],
      "execution_count": 25,
      "outputs": []
    },
    {
      "cell_type": "code",
      "metadata": {
        "id": "kQ1DzgqWtmWi"
      },
      "source": [
        ""
      ],
      "execution_count": null,
      "outputs": []
    }
  ]
}